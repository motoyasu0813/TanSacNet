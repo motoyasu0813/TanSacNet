{
 "cells": [
  {
   "cell_type": "markdown",
   "metadata": {},
   "source": [
    "\n",
    "# <span style=\"color:rgb(213,80,0)\">Uniform LSUN (Locallay\\-Structured Unitary Network)</span>\n",
    "\n",
    "LSUN, like PCA, is a fully linear transformation.\n",
    "\n",
    "\n",
    "Please do not forget to run **setpath** in the top directory of this package, and then return to this directory.\n",
    "\n",
    "\n",
    " Requirements: Python 3.10/11.x, PyTorch 2.3.x\n",
    "\n",
    "\n",
    " Contact address: Shogo MURAMATSU,\n",
    "\n",
    "\n",
    "&nbsp;&nbsp;&nbsp;&nbsp;&nbsp;&nbsp;&nbsp;&nbsp; Faculty of Engineering, Niigata University,\n",
    "\n",
    "\n",
    "&nbsp;&nbsp;&nbsp;&nbsp;&nbsp;&nbsp;&nbsp;&nbsp; 8050 2\\-no\\-cho Ikarashi, Nishi\\-ku,\n",
    "\n",
    "\n",
    "&nbsp;&nbsp;&nbsp;&nbsp;&nbsp;&nbsp;&nbsp;&nbsp; Niigata, 950\\-2181, JAPAN\n",
    "\n",
    "\n",
    "&nbsp;&nbsp;&nbsp;&nbsp;&nbsp;&nbsp;&nbsp;&nbsp; [https://www.eng.niigata\\-u.ac.jp/~msiplab](https://www.eng.niigata-u.ac.jp/msiplab)\n",
    "\n",
    "\n",
    " Copyright (c) 2024, Shogo MURAMATSU, All rights reserved.\n"
   ]
  },
  {
   "cell_type": "code",
   "execution_count": 1,
   "metadata": {},
   "outputs": [
    {
     "name": "stdout",
     "output_type": "stream",
     "text": [
      "kodim01.png already exists in ../../../data/\n",
      "kodim02.png already exists in ../../../data/\n",
      "kodim03.png already exists in ../../../data/\n",
      "kodim04.png already exists in ../../../data/\n",
      "kodim05.png already exists in ../../../data/\n",
      "kodim06.png already exists in ../../../data/\n",
      "kodim07.png already exists in ../../../data/\n",
      "kodim08.png already exists in ../../../data/\n",
      "kodim09.png already exists in ../../../data/\n",
      "kodim10.png already exists in ../../../data/\n",
      "kodim11.png already exists in ../../../data/\n",
      "kodim12.png already exists in ../../../data/\n",
      "kodim13.png already exists in ../../../data/\n",
      "kodim14.png already exists in ../../../data/\n",
      "kodim15.png already exists in ../../../data/\n",
      "kodim16.png already exists in ../../../data/\n",
      "kodim17.png already exists in ../../../data/\n",
      "kodim18.png already exists in ../../../data/\n",
      "kodim19.png already exists in ../../../data/\n",
      "kodim20.png already exists in ../../../data/\n",
      "kodim21.png already exists in ../../../data/\n",
      "kodim22.png already exists in ../../../data/\n",
      "kodim23.png already exists in ../../../data/\n",
      "kodim24.png already exists in ../../../data/\n",
      "See Kodak Lossless True Color Image Suite (https://www.r0k.us/graphics/kodak/)\n"
     ]
    }
   ],
   "source": [
    "from support import fcn_download_img\n",
    "isVisible = False\n",
    "dstfolder = fcn_download_img()"
   ]
  },
  {
   "cell_type": "code",
   "execution_count": 2,
   "metadata": {},
   "outputs": [],
   "source": [
    "from torchvision.io import read_image\n",
    "from torchvision.transforms.functional import rgb_to_grayscale\n",
    "imgfile = dstfolder + \"kodim01.png\"\n",
    "img = rgb_to_grayscale(read_image(imgfile)).float() / 255.0\n"
   ]
  },
  {
   "cell_type": "code",
   "execution_count": 3,
   "metadata": {},
   "outputs": [
    {
     "data": {
      "text/plain": [
       "\" \\n% rblk = imd';\\n% nblocks = 9;\\n% blk = im2col(rblk,[14 14] ,'distinct')\\nnof = 1;\\nky = 2*nof+1; % # of overlapping blocks (odd number)\\nkx = 2*nof+1;\\ndisp([ky kx])\\n\""
      ]
     },
     "execution_count": 3,
     "metadata": {},
     "output_type": "execute_result"
    }
   ],
   "source": [
    "\"\"\" \n",
    "% rblk = imd';\n",
    "% nblocks = 9;\n",
    "% blk = im2col(rblk,[14 14] ,'distinct')\n",
    "nof = 1;\n",
    "ky = 2*nof+1; % # of overlapping blocks (odd number)\n",
    "kx = 2*nof+1;\n",
    "disp([ky kx])\n",
    "\"\"\""
   ]
  },
  {
   "cell_type": "code",
   "execution_count": 4,
   "metadata": {},
   "outputs": [
    {
     "data": {
      "text/plain": [
       "' \\nblksz = [4 4]; % Block size\\n% # of coeffs\\nnCoefs = 2;\\n'"
      ]
     },
     "execution_count": 4,
     "metadata": {},
     "output_type": "execute_result"
    }
   ],
   "source": [
    "\"\"\" \n",
    "blksz = [4 4]; % Block size\n",
    "% # of coeffs\n",
    "nCoefs = 2;\n",
    "\"\"\""
   ]
  },
  {
   "cell_type": "markdown",
   "metadata": {},
   "source": [
    "## Global block PCA for reference"
   ]
  },
  {
   "cell_type": "code",
   "execution_count": 5,
   "metadata": {},
   "outputs": [
    {
     "data": {
      "text/plain": [
       "' \\n% Reshape\\ncolblks = im2col(img,blksz,\"distinct\");\\n% PCA\\n%Vpca = pca(colblks.\\')\\nmu = mean(colblks,2);\\ncolblkszm = colblks - mu;\\nC = cov(colblkszm.\\');\\n[~,S,V] = svd(C,\"econ\");\\n[~,idxS] = sort(diag(S),\"descend\");\\nV = V(:,idxS(1:nCoefs));\\n%norm(Vpca - Vsvd,\\'fro\\')\\n% Approxiamtion\\ngbpcaimg = col2im(V*V.\\'*(colblks-mu)+mu,blksz,size(img),\"distinct\");\\n'"
      ]
     },
     "execution_count": 5,
     "metadata": {},
     "output_type": "execute_result"
    }
   ],
   "source": [
    "\"\"\" \n",
    "% Reshape\n",
    "colblks = im2col(img,blksz,\"distinct\");\n",
    "% PCA\n",
    "%Vpca = pca(colblks.')\n",
    "mu = mean(colblks,2);\n",
    "colblkszm = colblks - mu;\n",
    "C = cov(colblkszm.');\n",
    "[~,S,V] = svd(C,\"econ\");\n",
    "[~,idxS] = sort(diag(S),\"descend\");\n",
    "V = V(:,idxS(1:nCoefs));\n",
    "%norm(Vpca - Vsvd,'fro')\n",
    "% Approxiamtion\n",
    "gbpcaimg = col2im(V*V.'*(colblks-mu)+mu,blksz,size(img),\"distinct\");\n",
    "\"\"\""
   ]
  },
  {
   "cell_type": "markdown",
   "metadata": {},
   "source": [
    "## Local block PCA for reference"
   ]
  },
  {
   "cell_type": "code",
   "execution_count": 6,
   "metadata": {},
   "outputs": [
    {
     "data": {
      "text/plain": [
       "' \\n% % Create Sub-images\\n% s_img = createsubimg(blk);\\n[szy,szx] = size(img);\\nlbpcaimg = zeros(szy,szx);\\nfor iBlkCol = 1:szx/blksz(2)\\n    for iBlkRow = 1:szy/blksz(1)\\n        % Extract ky x kx blocks\\n        subblks = fcn_extract_blks_(img,[iBlkRow,iBlkCol],blksz,[ky,kx]);\\n        % Reshape\\n        colblks = im2col(subblks,blksz,\"distinct\");\\n        % PCA\\n        %Vpca = pca(colblks.\\')\\n        mu = mean(colblks,2);\\n        colblkszm = colblks - mu;\\n        C = cov(colblkszm.\\');\\n        [~,S,V] = svd(C,\"econ\");\\n        [~,idxS] = sort(diag(S),\"descend\");\\n        V = V(:,idxS(1:nCoefs));\\n        %norm(Vpca - Vsvd,\\'fro\\')\\n        % Approxiamtion\\n        targetblk = fcn_extract_blks_(img,[iBlkRow,iBlkCol],blksz,[1 1]);\\n        targetblk = reshape(V*V.\\'*(targetblk(:)-mu)+mu,size(targetblk));\\n        % Place block\\n        lbpcaimg = fcn_place_blks_(lbpcaimg,targetblk,[iBlkRow,iBlkCol],blksz);\\n    end\\nend\\n'"
      ]
     },
     "execution_count": 6,
     "metadata": {},
     "output_type": "execute_result"
    }
   ],
   "source": [
    "\"\"\" \n",
    "% % Create Sub-images\n",
    "% s_img = createsubimg(blk);\n",
    "[szy,szx] = size(img);\n",
    "lbpcaimg = zeros(szy,szx);\n",
    "for iBlkCol = 1:szx/blksz(2)\n",
    "    for iBlkRow = 1:szy/blksz(1)\n",
    "        % Extract ky x kx blocks\n",
    "        subblks = fcn_extract_blks_(img,[iBlkRow,iBlkCol],blksz,[ky,kx]);\n",
    "        % Reshape\n",
    "        colblks = im2col(subblks,blksz,\"distinct\");\n",
    "        % PCA\n",
    "        %Vpca = pca(colblks.')\n",
    "        mu = mean(colblks,2);\n",
    "        colblkszm = colblks - mu;\n",
    "        C = cov(colblkszm.');\n",
    "        [~,S,V] = svd(C,\"econ\");\n",
    "        [~,idxS] = sort(diag(S),\"descend\");\n",
    "        V = V(:,idxS(1:nCoefs));\n",
    "        %norm(Vpca - Vsvd,'fro')\n",
    "        % Approxiamtion\n",
    "        targetblk = fcn_extract_blks_(img,[iBlkRow,iBlkCol],blksz,[1 1]);\n",
    "        targetblk = reshape(V*V.'*(targetblk(:)-mu)+mu,size(targetblk));\n",
    "        % Place block\n",
    "        lbpcaimg = fcn_place_blks_(lbpcaimg,targetblk,[iBlkRow,iBlkCol],blksz);\n",
    "    end\n",
    "end\n",
    "\"\"\""
   ]
  },
  {
   "cell_type": "markdown",
   "metadata": {},
   "source": [
    "## Locally Structured Unitary Network (LSUN) for 2\\-D Grayscale image"
   ]
  },
  {
   "cell_type": "code",
   "execution_count": 7,
   "metadata": {},
   "outputs": [
    {
     "data": {
      "text/plain": [
       "' \\n% Decimation factor (Strides)\\nstride = blksz; % [My Mx]\\n\\n% Number of overlapping blocks (Polyphase order plus one)\\novlpFactor = [ky kx];\\n\\n% Max epochs\\nmaxEpochs = 64;\\n\\n% Standard deviation of initial angles\\nstdInitAng = 0;\\n\\n% No DC-leakage\\nnoDcLeakage = true;\\n'"
      ]
     },
     "execution_count": 7,
     "metadata": {},
     "output_type": "execute_result"
    }
   ],
   "source": [
    "\"\"\" \n",
    "% Decimation factor (Strides)\n",
    "stride = blksz; % [My Mx]\n",
    "\n",
    "% Number of overlapping blocks (Polyphase order plus one)\n",
    "ovlpFactor = [ky kx];\n",
    "\n",
    "% Max epochs\n",
    "maxEpochs = 64;\n",
    "\n",
    "% Standard deviation of initial angles\n",
    "stdInitAng = 0;\n",
    "\n",
    "% No DC-leakage\n",
    "noDcLeakage = true;\n",
    "\"\"\""
   ]
  },
  {
   "cell_type": "markdown",
   "metadata": {},
   "source": [
    "## Bivariate lattice\\-structure of filter banks\n",
    "\n",
    "As a base system for LSUN, let us adopt a multidimensional linear\\-phase paraunitary filter banks (MD\\-LPPUFB) ( or non\\-separable oversampled lapped transform (NSOLT)) of  type\\-I with the number of channels (the numbers of even and odd symmetric channels are identical to each other) and polyphase order (even):\n",
    "\n",
    "&nbsp;&nbsp;&nbsp;&nbsp;&nbsp;&nbsp;&nbsp;&nbsp;\n",
    "$$E(z_{{\\mathrm{v}}} ,z_h )=\\left(\\prod_{k_{{\\mathrm{h}}} =1}^{N_{{\\mathrm{h}}} /2} V_{2k_{{\\mathrm{h}}} }^{\\lbrace {\\mathrm{h}}\\rbrace } \\bar{Q} (z_{{\\mathrm{h}}} )V_{2k_{{\\mathrm{h}}} -1}^{\\lbrace {\\mathrm{h}}\\rbrace } Q(z_{{\\mathrm{h}}} )\\right)\\left(\\prod_{k_{{\\mathrm{v}}} =1}^{N_{{\\mathrm{v}}} /2} V_{2k_{{\\mathrm{v}}} }^{\\lbrace {\\mathrm{v}}\\rbrace } \\bar{Q} (z_{{\\mathrm{v}}} )V_{2k_{{\\mathrm{v}}} -1}^{\\lbrace {\\mathrm{v}}\\rbrace } Q(z_{{\\mathrm{v}}} )\\right)V_0 E_0 ,$$\n",
    "\n",
    "&nbsp;&nbsp;&nbsp;&nbsp;&nbsp;&nbsp;&nbsp;&nbsp;\n",
    "$$R(z_{{\\mathrm{v}}} ,z_h )=E^T (z_{{\\mathrm{v}}}^{-1} ,z_{{\\mathrm{h}}}^{-1} ),$$\n",
    "\n",
    "where\n",
    "\n",
    "-  $E(z_{{\\mathrm{v}}} ,z_{{\\mathrm{h}}} )$ :  Type\\-I polyphase matrix of the analysis filter bank\n",
    "-  $R(z_{{\\mathrm{v}}} ,z_{{\\mathrm{h}}} )$ : Type\\-II polyphase matrix in the synthesis filter bank\n",
    "-  $z_d \\in \\mathbb{C},d\\in \\lbrace {\\mathrm{v}},{\\mathrm{h}}\\rbrace$ : The parameter of Z\\-transformation direction\n",
    "-  $N_d \\in \\mathbb{N},d\\in \\lbrace {\\mathrm{v}},{\\mathrm{h}}\\rbrace$ : Polyphase order in direction $d$ (number of overlapping blocks)\n",
    "-  $V_0 =\\left(\\begin{array}{cc} W_0  & O\\newline O & U_0  \\end{array}\\right)\\left(\\begin{array}{c} I_{M/2} \\newline O\\newline I_{M/2} \\newline O \\end{array}\\right)\\in {\\mathbb{R}}^{P\\times M}$ , $V_n^{\\lbrace d\\rbrace } =\\left(\\begin{array}{cc} I_{P/2}  & O\\newline O & U_n^{\\lbrace d\\rbrace }  \\end{array}\\right)\\in {\\mathbb{R}}^{P\\times P} ,d\\in \\lbrace {\\mathrm{v}},{\\mathrm{h}}\\rbrace$ , where $W_0 ,U_0 ,U_n^{\\lbrace d\\rbrace } \\in {\\mathbb{R}}^{P/2\\times P/2}$ are orthonromal matrices.\n",
    "-  $Q(z)=B_P \\left(\\begin{array}{cc} I_{P/2}  & O\\newline O & z^{-1} I_{P/2}  \\end{array}\\right)B_P$ , $\\bar{Q} (z)=B_P \\left(\\begin{array}{cc} zI_{P/2}  & O\\newline O & I_{P/2}  \\end{array}\\right)B_P$ , $B_P =\\frac{1}{\\sqrt{2}}\\left(\\begin{array}{cc} I_{P/2}  & I_{P/2} \\newline I_{P/2}  & -I_{P/2}  \\end{array}\\right)$\n",
    "\n",
    "【Example】For $P/2=3$ , a parametric orthonormal matrix $U({\\theta },{\\mu })$ can be constructed by\n",
    "\n",
    "&nbsp;&nbsp;&nbsp;&nbsp;&nbsp;&nbsp;&nbsp;&nbsp;\n",
    "$$U({\\theta },{\\mu })\\colon =\\left(\\begin{array}{ccc} \\mu_1  & 0 & 0\\newline 0 & \\mu_1  & 0\\newline 0 & 0 & \\mu_2  \\end{array}\\right)\\left(\\begin{array}{ccc} 1 & 0 & 0\\newline 0 & \\cos \\theta_2  & -\\sin \\theta_2 \\newline 0 & \\sin \\theta_2  & \\cos \\theta_2  \\end{array}\\right)\\left(\\begin{array}{ccc} \\cos \\theta_1  & 0 & -\\sin \\theta_1 \\newline 0 & 1 & 0\\newline \\sin \\theta_1  & 0 & \\cos \\theta_1  \\end{array}\\right)\\left(\\begin{array}{ccc} \\cos \\theta_0  & -\\sin \\theta_0  & 0\\newline \\sin \\theta_0  & \\cos \\theta_0  & 0\\newline 0 & 0 & 1 \\end{array}\\right),$$\n",
    "\n",
    "&nbsp;&nbsp;&nbsp;&nbsp;&nbsp;&nbsp;&nbsp;&nbsp;\n",
    "$${U({\\theta },{\\mu })}^T =\\left(\\begin{array}{ccc} \\cos \\theta_0  & \\sin \\theta_0  & 0\\newline -\\sin \\theta_0  & \\cos \\theta_0  & 0\\newline 0 & 0 & 1 \\end{array}\\right)\\left(\\begin{array}{ccc} \\cos \\theta_1  & 0 & \\sin \\theta_1 \\newline 0 & 1 & 0\\newline -\\sin \\theta_1  & 0 & \\cos \\theta_1  \\end{array}\\right)\\left(\\begin{array}{ccc} 1 & 0 & 0\\newline 0 & \\cos \\theta_2  & \\sin \\theta_2 \\newline 0 & -\\sin \\theta_2  & \\cos \\theta_2  \\end{array}\\right)\\left(\\begin{array}{ccc} \\mu_0  & 0 & 0\\newline 0 & \\mu_1  & 0\\newline 0 & 0 & \\mu_2  \\end{array}\\right),$$\n",
    "\n",
    "where ${\\theta }\\in {\\mathbb{R}}^{(P-2)P/8}$ and ${\\mu }=\\lbrace -1,1\\rbrace^{P/2}$ . For the sake of simplification, the sign parameters $\\mu_k$ are fixed to $-1$ for $U_n^{\\lbrace d\\rbrace }$ witn odd $n$ , otherwise they are fixed to $+1$ .\n",
    "\n",
    "\n",
    "Partial differentiation can be, for examle, conducted as\n",
    "\n",
    "&nbsp;&nbsp;&nbsp;&nbsp;&nbsp;&nbsp;&nbsp;&nbsp;\n",
    "$$\\frac{\\partial }{\\partial \\theta_1 }{U({\\theta },{\\mu })}^T =\\left(\\begin{array}{ccc} \\cos \\theta_0  & \\sin \\theta_0  & 0\\newline -\\sin \\theta_0  & \\cos \\theta_0  & 0\\newline 0 & 0 & 1 \\end{array}\\right)\\left(\\begin{array}{ccc} -\\sin \\theta_1  & 0 & \\cos \\theta_1 \\newline 0 & 0 & 0\\newline -\\cos \\theta_1  & 0 & -\\sin \\theta_1  \\end{array}\\right)\\left(\\begin{array}{ccc} 1 & 0 & 0\\newline 0 & \\cos \\theta_2  & \\sin \\theta_2 \\newline 0 & -\\sin \\theta_2  & \\cos \\theta_2  \\end{array}\\right)\\left(\\begin{array}{ccc} \\mu_0  & 0 & 0\\newline 0 & \\mu_1  & 0\\newline 0 & 0 & \\mu_2  \\end{array}\\right).$$\n",
    "\n",
    "\n",
    "A locally\\-structured unitary network (LSUN) allows to change the parameters block by block.\n",
    "\n",
    "\n",
    "【References】\n",
    "\n",
    "-  MATLAB SaivDr Package: [https://github.com/msiplab/SaivDr](https://github.com/msiplab/SaivDr)\n",
    "-  S. Muramatsu, K. Furuya and N. Yuki, \"Multidimensional Nonseparable Oversampled Lapped Transforms: Theory and Design,\" in IEEE Transactions on Signal Processing, vol. 65, no. 5, pp. 1251\\-1264, 1 March1, 2017, [doi: 10.1109/TSP.2016.2633240](https://ieeexplore.ieee.org/document/7762239).\n",
    "-  S. Muramatsu, T. Kobayashi, M. Hiki and H. Kikuchi, \"Boundary Operation of 2\\-D Nonseparable Linear\\-Phase Paraunitary Filter Banks,\" in IEEE Transactions on Image Processing, vol. 21, no. 4, pp. 2314\\-2318, April 2012, doi: 10.1109/TIP.2011.2181527.\n",
    "-  S. Muramatsu, M. Ishii and Z. Chen, \"Efficient parameter optimization for example\\-based design of nonseparable oversampled lapped transform,\" 2016 IEEE International Conference on Image Processing (ICIP), Phoenix, AZ, 2016, pp. 3618\\-3622, doi: 10.1109/ICIP.2016.7533034.\n",
    "-  Furuya, K., Hara, S., Seino, K., & Muramatsu, S. (2016). Boundary operation of 2D non\\-separable oversampled lapped transforms. *APSIPA Transactions on Signal and Information Processing, 5*, E9. doi:10.1017/ATSIP.2016.3.\n",
    "-  S. Muramatsu, A. Yamada and H. Kiya, \"A design method of multidimensional linear\\-phase paraunitary filter banks with a lattice structure,\" in IEEE Transactions on Signal Processing, vol. 47, no. 3, pp. 690\\-700, March 1999,[doi: 10.1109/78.747776](https://ieeexplore.ieee.org/document/747776).\n",
    "### Definition of custom layers and networks\n",
    "\n",
    "Use a custom layer of Deep Learning Toolbox to implement Analysis LSUN.\n",
    "\n",
    "#### Definition of layers w/ Learnable properties\n",
    "-  Initial rotation: $V_{0,b}$ (tansacnet.lsun.lsunInitialRotationLayer)\n",
    "-  Intermediate rotation: $V_{n,b}^{\\lbrace d\\rbrace }$ (tansacnet.lsun.lsunIntermediateRotationLayer)\n",
    "#### Definition of layers w/o Learnable properties\n",
    "-  Bivariate DCT (2\\-D IDCT): $E_0$ (tansacnet.lsun.lsunBlockDctLayer)\n",
    "-  Vertical up extension: $Q(z_{{\\mathrm{v}}} )$ (tansacnet.lsun.lsunAtomExtensionLayer)\n",
    "-  Vertical down extension: $\\bar{Q} (z_{{\\mathrm{v}}} )$  (tansacnet.lsun.lsunAtomExtensionLayer)\n",
    "-  Horizontal left extension: $Q(z_{{\\mathrm{h}}} )$ (tansacnet.lsun.lsunAtomExtensionLayer)\n",
    "-  Horizontal right extension: $\\bar{Q} (z_{{\\mathrm{h}}} )$ (tansacnet.lsun.lsunAtomExtensionLayer)"
   ]
  },
  {
   "cell_type": "code",
   "execution_count": 8,
   "metadata": {},
   "outputs": [
    {
     "data": {
      "text/plain": [
       "\" \\nimport tansacnet.lsun.*\\nanalysislgraph = fcn_createlsunlgraph2d([],...\\n    'InputSize',[szy szx],...\\n    'Stride',stride,...\\n    'OverlappingFactor',ovlpFactor,...\\n    'NumberOfVanishingMoments',noDcLeakage,...\\n    'Mode','Analyzer');\\nsynthesislgraph = fcn_createlsunlgraph2d([],...\\n    'InputSize',[szy szx],...\\n    'Stride',stride,...\\n    'OverlappingFactor',ovlpFactor,...\\n    'NumberOfVanishingMoments',noDcLeakage,...\\n    'Mode','Synthesizer');\\nfigure\\nsubplot(1,2,1)\\nplot(analysislgraph)\\ntitle('Analysis LSUN')\\nsubplot(1,2,2)\\nplot(synthesislgraph)\\ntitle('Synthesis LSUN')\\n\""
      ]
     },
     "execution_count": 8,
     "metadata": {},
     "output_type": "execute_result"
    }
   ],
   "source": [
    "\"\"\" \n",
    "import tansacnet.lsun.*\n",
    "analysislgraph = fcn_createlsunlgraph2d([],...\n",
    "    'InputSize',[szy szx],...\n",
    "    'Stride',stride,...\n",
    "    'OverlappingFactor',ovlpFactor,...\n",
    "    'NumberOfVanishingMoments',noDcLeakage,...\n",
    "    'Mode','Analyzer');\n",
    "synthesislgraph = fcn_createlsunlgraph2d([],...\n",
    "    'InputSize',[szy szx],...\n",
    "    'Stride',stride,...\n",
    "    'OverlappingFactor',ovlpFactor,...\n",
    "    'NumberOfVanishingMoments',noDcLeakage,...\n",
    "    'Mode','Synthesizer');\n",
    "figure\n",
    "subplot(1,2,1)\n",
    "plot(analysislgraph)\n",
    "title('Analysis LSUN')\n",
    "subplot(1,2,2)\n",
    "plot(synthesislgraph)\n",
    "title('Synthesis LSUN')\n",
    "\"\"\""
   ]
  },
  {
   "cell_type": "code",
   "execution_count": 9,
   "metadata": {},
   "outputs": [
    {
     "data": {
      "text/plain": [
       "' \\n% Construction of synthesis network.\\nanalysisnet = dlnetwork(analysislgraph);\\n\\n% Initialize\\nnLearnables = height(analysisnet.Learnables);\\nfor iLearnable = 1:nLearnables\\n    if analysisnet.Learnables.Parameter(iLearnable)==\"Angles\"\\n        analysisnet.Learnables.Value(iLearnable) = ...\\n            cellfun(@(x) x+stdInitAng*randn(size(x)), ...\\n            analysisnet.Learnables.Value(iLearnable),\\'UniformOutput\\',false);\\n    end\\nend\\n'"
      ]
     },
     "execution_count": 9,
     "metadata": {},
     "output_type": "execute_result"
    }
   ],
   "source": [
    "\"\"\" \n",
    "% Construction of synthesis network.\n",
    "analysisnet = dlnetwork(analysislgraph);\n",
    "\n",
    "% Initialize\n",
    "nLearnables = height(analysisnet.Learnables);\n",
    "for iLearnable = 1:nLearnables\n",
    "    if analysisnet.Learnables.Parameter(iLearnable)==\"Angles\"\n",
    "        analysisnet.Learnables.Value(iLearnable) = ...\n",
    "            cellfun(@(x) x+stdInitAng*randn(size(x)), ...\n",
    "            analysisnet.Learnables.Value(iLearnable),'UniformOutput',false);\n",
    "    end\n",
    "end\n",
    "\"\"\""
   ]
  },
  {
   "cell_type": "code",
   "execution_count": 10,
   "metadata": {},
   "outputs": [
    {
     "data": {
      "text/plain": [
       "' \\nimport tansacnet.lsun.*\\n% Construction of analysis network\\nanalysislgraph = layerGraph(analysisnet);\\nsynthesislgraph = fcn_cpparamsana2syn(synthesislgraph,analysislgraph);\\n'"
      ]
     },
     "execution_count": 10,
     "metadata": {},
     "output_type": "execute_result"
    }
   ],
   "source": [
    "\"\"\" \n",
    "import tansacnet.lsun.*\n",
    "% Construction of analysis network\n",
    "analysislgraph = layerGraph(analysisnet);\n",
    "synthesislgraph = fcn_cpparamsana2syn(synthesislgraph,analysislgraph);\n",
    "\"\"\""
   ]
  },
  {
   "cell_type": "code",
   "execution_count": 11,
   "metadata": {},
   "outputs": [
    {
     "data": {
      "text/plain": [
       "' \\nsynthesisnet = dlnetwork(synthesislgraph);\\n'"
      ]
     },
     "execution_count": 11,
     "metadata": {},
     "output_type": "execute_result"
    }
   ],
   "source": [
    "\"\"\" \n",
    "synthesisnet = dlnetwork(synthesislgraph);\n",
    "\"\"\""
   ]
  },
  {
   "cell_type": "markdown",
   "metadata": {},
   "source": [
    "### Confirmation of the adjoint relation (perfect reconstruction)"
   ]
  },
  {
   "cell_type": "code",
   "execution_count": 12,
   "metadata": {},
   "outputs": [
    {
     "data": {
      "text/plain": [
       "' \\nx = rand([szy szx],\\'single\\');\\ndlx = dlarray(x,\\'SSCB\\'); % Deep learning array (SSCB: Spatial,Spatial,Channel,Batch)\\n[dls{1:2}] = analysisnet.predict(dlx);\\ndly = synthesisnet.predict(dls{:});\\ndisplay(\"MSE: \" + num2str(mse(dlx,dly)))\\n'"
      ]
     },
     "execution_count": 12,
     "metadata": {},
     "output_type": "execute_result"
    }
   ],
   "source": [
    "\"\"\" \n",
    "x = rand([szy szx],'single');\n",
    "dlx = dlarray(x,'SSCB'); % Deep learning array (SSCB: Spatial,Spatial,Channel,Batch)\n",
    "[dls{1:2}] = analysisnet.predict(dlx);\n",
    "dly = synthesisnet.predict(dls{:});\n",
    "display(\"MSE: \" + num2str(mse(dlx,dly)))\n",
    "\"\"\""
   ]
  },
  {
   "cell_type": "markdown",
   "metadata": {},
   "source": [
    "## Parameter optimization and approximation"
   ]
  },
  {
   "cell_type": "code",
   "execution_count": 13,
   "metadata": {},
   "outputs": [
    {
     "data": {
      "text/plain": [
       "\" \\nimport tansacnet.lsun.*\\nanalysislgraph = layerGraph(analysisnet);\\n\\n% Coefficient masking\\nnChsTotal = prod(stride);\\ncoefMask = reshape([ones(nCoefs,1); zeros(nChsTotal-nCoefs,1)],2,[]).'; % Revised on Jan. 16, 2023\\ncoefMask = coefMask(:);\\n%nLevels = 1;\\n%for iLv = nLevels:-1:1\\niLv = 1;\\nstrLv = sprintf('Lv%0d_',iLv);\\n% For AC\\nanalysislgraph = analysislgraph.replaceLayer([strLv 'AcOut'],...\\n    maskLayer('Name',[strLv 'AcMask'],'Mask',coefMask(2:end),...\\n    'NumberOfChannels',nChsTotal-1));\\n%strLvPre = strLv;\\n%end\\n\\n% Output layer\\niCmp = 1;\\nstrCmp = sprintf('Cmp%0d_',iCmp);\\n%analysislgraph = analysislgraph.addLayers([...\\n%      lsunChannelConcatenation2dLayer('Name',[strLv strCmp 'Cn']) ...\\n%      lsunRegressionLayer('Coefficient output')\\n%     ]);\\nanalysislgraph = analysislgraph.addLayers(...\\n      lsunChannelConcatenation2dLayer('Name',[strLv strCmp 'Cn']));\\nanalysislgraph = analysislgraph.connectLayers(...\\n    [strLv 'AcMask' ], [strLv strCmp 'Cn/ac']);\\nanalysislgraph = analysislgraph.connectLayers(...\\n    [strLv 'DcOut' ], [strLv strCmp 'Cn/dc']);\\n\\nfigure\\nplot(analysislgraph)\\ntitle('Analysis LSUN')\\n\""
      ]
     },
     "execution_count": 13,
     "metadata": {},
     "output_type": "execute_result"
    }
   ],
   "source": [
    "\"\"\" \n",
    "import tansacnet.lsun.*\n",
    "analysislgraph = layerGraph(analysisnet);\n",
    "\n",
    "% Coefficient masking\n",
    "nChsTotal = prod(stride);\n",
    "coefMask = reshape([ones(nCoefs,1); zeros(nChsTotal-nCoefs,1)],2,[]).'; % Revised on Jan. 16, 2023\n",
    "coefMask = coefMask(:);\n",
    "%nLevels = 1;\n",
    "%for iLv = nLevels:-1:1\n",
    "iLv = 1;\n",
    "strLv = sprintf('Lv%0d_',iLv);\n",
    "% For AC\n",
    "analysislgraph = analysislgraph.replaceLayer([strLv 'AcOut'],...\n",
    "    maskLayer('Name',[strLv 'AcMask'],'Mask',coefMask(2:end),...\n",
    "    'NumberOfChannels',nChsTotal-1));\n",
    "%strLvPre = strLv;\n",
    "%end\n",
    "\n",
    "% Output layer\n",
    "iCmp = 1;\n",
    "strCmp = sprintf('Cmp%0d_',iCmp);\n",
    "%analysislgraph = analysislgraph.addLayers([...\n",
    "%      lsunChannelConcatenation2dLayer('Name',[strLv strCmp 'Cn']) ...\n",
    "%      lsunRegressionLayer('Coefficient output')\n",
    "%     ]);\n",
    "analysislgraph = analysislgraph.addLayers(...\n",
    "      lsunChannelConcatenation2dLayer('Name',[strLv strCmp 'Cn']));\n",
    "analysislgraph = analysislgraph.connectLayers(...\n",
    "    [strLv 'AcMask' ], [strLv strCmp 'Cn/ac']);\n",
    "analysislgraph = analysislgraph.connectLayers(...\n",
    "    [strLv 'DcOut' ], [strLv strCmp 'Cn/dc']);\n",
    "\n",
    "figure\n",
    "plot(analysislgraph)\n",
    "title('Analysis LSUN')\n",
    "\"\"\""
   ]
  },
  {
   "cell_type": "code",
   "execution_count": 14,
   "metadata": {},
   "outputs": [
    {
     "data": {
      "text/plain": [
       "' \\n% Image data store\\nfs = matlab.io.datastore.FileSet(imgfile);\\nimds = imageDatastore(imgfile,\"ReadFcn\",@(x) im2single(rgb2gray(imread(imgfile))));\\n%patchds = randomPatchExtractionDatastore(imds,imds,[szy szx],\\'PatchesPerImage\\',1);\\nfigure\\n%minibatch = preview(patchds);\\n%inputimg = minibatch.InputImage;\\nimshow(preview(imds));\\n'"
      ]
     },
     "execution_count": 14,
     "metadata": {},
     "output_type": "execute_result"
    }
   ],
   "source": [
    "\"\"\" \n",
    "% Image data store\n",
    "fs = matlab.io.datastore.FileSet(imgfile);\n",
    "imds = imageDatastore(imgfile,\"ReadFcn\",@(x) im2single(rgb2gray(imread(imgfile))));\n",
    "%patchds = randomPatchExtractionDatastore(imds,imds,[szy szx],'PatchesPerImage',1);\n",
    "figure\n",
    "%minibatch = preview(patchds);\n",
    "%inputimg = minibatch.InputImage;\n",
    "imshow(preview(imds));\n",
    "\"\"\""
   ]
  },
  {
   "cell_type": "code",
   "execution_count": 15,
   "metadata": {},
   "outputs": [
    {
     "data": {
      "text/plain": [
       "\" \\ndrawnow\\n%figure\\n%responses = minibatch.ResponseImage;\\n%montage(responses,'Size',[2 4]);\\n\""
      ]
     },
     "execution_count": 15,
     "metadata": {},
     "output_type": "execute_result"
    }
   ],
   "source": [
    "\"\"\" \n",
    "drawnow\n",
    "%figure\n",
    "%responses = minibatch.ResponseImage;\n",
    "%montage(responses,'Size',[2 4]);\n",
    "\"\"\""
   ]
  },
  {
   "cell_type": "code",
   "execution_count": 16,
   "metadata": {},
   "outputs": [
    {
     "data": {
      "text/plain": [
       "' \\ndlX = dlarray(gpuArray(readimage(imds,1)),\"SSCB\");\\ntrainnet = dlnetwork(analysislgraph,dlX);\\nassert(trainnet.Initialized)\\n%miniBatchSize = 1;\\n%mbq = minibatchqueue(patchds,...\\n%    \\'MiniBatchSize\\',miniBatchSize,...\\n%    \\'MiniBatchFormat\\',{\\'SSBC\\',\\'SSBC\\'});\\nfigure\\nmonitor = trainingProgressMonitor(Metrics=\"Loss\",Info=\"Epoch\",XLabel=\"Iteration\");\\n'"
      ]
     },
     "execution_count": 16,
     "metadata": {},
     "output_type": "execute_result"
    }
   ],
   "source": [
    "\n",
    "\"\"\" \n",
    "dlX = dlarray(gpuArray(readimage(imds,1)),\"SSCB\");\n",
    "trainnet = dlnetwork(analysislgraph,dlX);\n",
    "assert(trainnet.Initialized)\n",
    "%miniBatchSize = 1;\n",
    "%mbq = minibatchqueue(patchds,...\n",
    "%    'MiniBatchSize',miniBatchSize,...\n",
    "%    'MiniBatchFormat',{'SSBC','SSBC'});\n",
    "figure\n",
    "monitor = trainingProgressMonitor(Metrics=\"Loss\",Info=\"Epoch\",XLabel=\"Iteration\");\n",
    "\"\"\""
   ]
  },
  {
   "cell_type": "code",
   "execution_count": 17,
   "metadata": {},
   "outputs": [
    {
     "data": {
      "text/plain": [
       "' \\n% lineLossTrain = animatedline(\\'Color\\',[0.85 0.325 0.098]);\\n% ylim([0 inf])\\n% xlabel(\"Iteration\")\\n% ylabel(\"Loss\")\\n% grid on\\n'"
      ]
     },
     "execution_count": 17,
     "metadata": {},
     "output_type": "execute_result"
    }
   ],
   "source": [
    "\"\"\" \n",
    "% lineLossTrain = animatedline('Color',[0.85 0.325 0.098]);\n",
    "% ylim([0 inf])\n",
    "% xlabel(\"Iteration\")\n",
    "% ylabel(\"Loss\")\n",
    "% grid on\n",
    "\"\"\" "
   ]
  },
  {
   "cell_type": "code",
   "execution_count": 18,
   "metadata": {},
   "outputs": [
    {
     "data": {
      "text/plain": [
       "' \\nnumIterations = maxEpochs;\\n\\n% Training\\nvelocity = [];\\niteration = 0;\\nmomentum = 0.9;\\ndecay = 0.01;\\ninitialLearnRate = 1e-1;\\nepoch = 0;\\nstart = tic;\\n\\n% Loop over epochs.\\nwhile epoch < maxEpochs && ~monitor.Stop\\n    epoch = epoch + 1;\\n    % Shuffle data.\\n    %shuffle(mbq);\\n    shuffle(imds);\\n\\n    % Loop over mini-batches.\\n    while hasdata(imds) && ~monitor.Stop % hasdata(mbq)\\n        iteration = iteration + 1;\\n\\n        % Read mini-batch of data.\\n        %[dlX, T] = next(mbq);\\n        dlX = dlarray(gpuArray(read(imds)),\"SSCB\");\\n\\n        % Evaluate the model gradients, state, and loss using dlfeval and the\\n        % modelGradients function and update the network state.\\n        [gradients,loss] = dlfeval(@modelGradients,trainnet,dlX);\\n\\n        % Determine learning rate for time-based decay learning rate schedule.\\n        learnRate = initialLearnRate/(1 + decay*iteration);\\n\\n        % Update the network parameters using the SGDM optimizer.\\n        [trainnet,velocity] = sgdmupdate(trainnet,gradients,velocity,learnRate,momentum);\\n\\n        % Display the training progress.\\n        %D = duration(0,0,toc(start),\\'Format\\',\\'hh:mm:ss\\');\\n        %addpoints(lineLossTrain,iteration,loss)\\n        %title(\"Epoch: \" + epoch + \", Elapsed: \" + string(D))\\n        %drawnow\\n        recordMetrics(monitor,iteration,Loss=loss);\\n        updateInfo(monitor,Epoch=epoch + \" of \" + maxEpochs);\\n        monitor.Progress = 100 * iteration/numIterations;\\n    end\\n\\n    reset(imds);\\nend\\n'"
      ]
     },
     "execution_count": 18,
     "metadata": {},
     "output_type": "execute_result"
    }
   ],
   "source": [
    "\"\"\" \n",
    "numIterations = maxEpochs;\n",
    "\n",
    "% Training\n",
    "velocity = [];\n",
    "iteration = 0;\n",
    "momentum = 0.9;\n",
    "decay = 0.01;\n",
    "initialLearnRate = 1e-1;\n",
    "epoch = 0;\n",
    "start = tic;\n",
    "\n",
    "% Loop over epochs.\n",
    "while epoch < maxEpochs && ~monitor.Stop\n",
    "    epoch = epoch + 1;\n",
    "    % Shuffle data.\n",
    "    %shuffle(mbq);\n",
    "    shuffle(imds);\n",
    "\n",
    "    % Loop over mini-batches.\n",
    "    while hasdata(imds) && ~monitor.Stop % hasdata(mbq)\n",
    "        iteration = iteration + 1;\n",
    "\n",
    "        % Read mini-batch of data.\n",
    "        %[dlX, T] = next(mbq);\n",
    "        dlX = dlarray(gpuArray(read(imds)),\"SSCB\");\n",
    "\n",
    "        % Evaluate the model gradients, state, and loss using dlfeval and the\n",
    "        % modelGradients function and update the network state.\n",
    "        [gradients,loss] = dlfeval(@modelGradients,trainnet,dlX);\n",
    "\n",
    "        % Determine learning rate for time-based decay learning rate schedule.\n",
    "        learnRate = initialLearnRate/(1 + decay*iteration);\n",
    "\n",
    "        % Update the network parameters using the SGDM optimizer.\n",
    "        [trainnet,velocity] = sgdmupdate(trainnet,gradients,velocity,learnRate,momentum);\n",
    "\n",
    "        % Display the training progress.\n",
    "        %D = duration(0,0,toc(start),'Format','hh:mm:ss');\n",
    "        %addpoints(lineLossTrain,iteration,loss)\n",
    "        %title(\"Epoch: \" + epoch + \", Elapsed: \" + string(D))\n",
    "        %drawnow\n",
    "        recordMetrics(monitor,iteration,Loss=loss);\n",
    "        updateInfo(monitor,Epoch=epoch + \" of \" + maxEpochs);\n",
    "        monitor.Progress = 100 * iteration/numIterations;\n",
    "    end\n",
    "\n",
    "    reset(imds);\n",
    "end\n",
    "\"\"\" "
   ]
  },
  {
   "cell_type": "markdown",
   "metadata": {},
   "source": [
    "## Approximation by LSUN\\-base linear autoencoder"
   ]
  },
  {
   "cell_type": "code",
   "execution_count": 19,
   "metadata": {},
   "outputs": [
    {
     "data": {
      "text/plain": [
       "\" \\nimport tansacnet.lsun.*\\nlsunlgraph = fcn_createlsunlgraph2d([],...\\n    'InputSize',[szy szx],...\\n    'Stride',stride,...\\n    'OverlappingFactor',ovlpFactor,...\\n    'NumberOfVanishingMoments',noDcLeakage,...\\n    'Mode','Whole');\\ntrainlgraph = layerGraph(trainnet);\\nlsunlgraph = fcn_cpparamsana2syn(lsunlgraph,trainlgraph);\\n\""
      ]
     },
     "execution_count": 19,
     "metadata": {},
     "output_type": "execute_result"
    }
   ],
   "source": [
    "\"\"\" \n",
    "import tansacnet.lsun.*\n",
    "lsunlgraph = fcn_createlsunlgraph2d([],...\n",
    "    'InputSize',[szy szx],...\n",
    "    'Stride',stride,...\n",
    "    'OverlappingFactor',ovlpFactor,...\n",
    "    'NumberOfVanishingMoments',noDcLeakage,...\n",
    "    'Mode','Whole');\n",
    "trainlgraph = layerGraph(trainnet);\n",
    "lsunlgraph = fcn_cpparamsana2syn(lsunlgraph,trainlgraph);\n",
    "\"\"\" "
   ]
  },
  {
   "cell_type": "code",
   "execution_count": 20,
   "metadata": {},
   "outputs": [
    {
     "data": {
      "text/plain": [
       "' \\nlsunlgraph = fcn_cpparamssyn2ana(lsunlgraph,lsunlgraph);\\n'"
      ]
     },
     "execution_count": 20,
     "metadata": {},
     "output_type": "execute_result"
    }
   ],
   "source": [
    "\"\"\" \n",
    "lsunlgraph = fcn_cpparamssyn2ana(lsunlgraph,lsunlgraph);\n",
    "\"\"\" "
   ]
  },
  {
   "cell_type": "code",
   "execution_count": 21,
   "metadata": {},
   "outputs": [
    {
     "data": {
      "text/plain": [
       "\" \\n%nLevels = 1;\\n%for iLv = nLevels:-1:1\\niLv = 1;\\nstrLv = sprintf('Lv%0d_',iLv);\\nlsunlgraph = lsunlgraph.disconnectLayers([strLv 'AcOut'],[strLv 'AcIn']);\\n% For AC\\nlsunlgraph = lsunlgraph.addLayers(...\\n    maskLayer('Name',[strLv 'AcMask'],'Mask',coefMask(2:end),...\\n    'NumberOfChannels',nChsTotal-1));\\nlsunlgraph = lsunlgraph.connectLayers([strLv 'AcOut'],[strLv 'AcMask']);\\nlsunlgraph = lsunlgraph.connectLayers([strLv 'AcMask'],[strLv 'AcIn']);\\n%strLvPre = strLv;\\n%end\\n\\nfigure\\nplot(lsunlgraph)\\ntitle('Linear autoencoder with LSUN')\\n\""
      ]
     },
     "execution_count": 21,
     "metadata": {},
     "output_type": "execute_result"
    }
   ],
   "source": [
    "\"\"\" \n",
    "%nLevels = 1;\n",
    "%for iLv = nLevels:-1:1\n",
    "iLv = 1;\n",
    "strLv = sprintf('Lv%0d_',iLv);\n",
    "lsunlgraph = lsunlgraph.disconnectLayers([strLv 'AcOut'],[strLv 'AcIn']);\n",
    "% For AC\n",
    "lsunlgraph = lsunlgraph.addLayers(...\n",
    "    maskLayer('Name',[strLv 'AcMask'],'Mask',coefMask(2:end),...\n",
    "    'NumberOfChannels',nChsTotal-1));\n",
    "lsunlgraph = lsunlgraph.connectLayers([strLv 'AcOut'],[strLv 'AcMask']);\n",
    "lsunlgraph = lsunlgraph.connectLayers([strLv 'AcMask'],[strLv 'AcIn']);\n",
    "%strLvPre = strLv;\n",
    "%end\n",
    "\n",
    "figure\n",
    "plot(lsunlgraph)\n",
    "title('Linear autoencoder with LSUN')\n",
    "\"\"\" "
   ]
  },
  {
   "cell_type": "code",
   "execution_count": null,
   "metadata": {},
   "outputs": [],
   "source": []
  },
  {
   "cell_type": "markdown",
   "metadata": {},
   "source": [
    "\n",
    "Predict\n"
   ]
  },
  {
   "cell_type": "code",
   "execution_count": 22,
   "metadata": {},
   "outputs": [
    {
     "data": {
      "text/plain": [
       "' \\nlsunnet = assembleNetwork(lsunlgraph);\\nlsunaimg = lsunnet.predict(img);\\n'"
      ]
     },
     "execution_count": 22,
     "metadata": {},
     "output_type": "execute_result"
    }
   ],
   "source": [
    "\"\"\" \n",
    "lsunnet = assembleNetwork(lsunlgraph);\n",
    "lsunaimg = lsunnet.predict(img);\n",
    "\"\"\" "
   ]
  },
  {
   "cell_type": "markdown",
   "metadata": {},
   "source": [
    "## Results"
   ]
  },
  {
   "cell_type": "code",
   "execution_count": 23,
   "metadata": {},
   "outputs": [
    {
     "data": {
      "text/plain": [
       "' \\nfigure\\nimshow(img)\\ntitle(\"Original\")\\n'"
      ]
     },
     "execution_count": 23,
     "metadata": {},
     "output_type": "execute_result"
    }
   ],
   "source": [
    "\"\"\" \n",
    "figure\n",
    "imshow(img)\n",
    "title(\"Original\")\n",
    "\"\"\" "
   ]
  },
  {
   "cell_type": "code",
   "execution_count": 24,
   "metadata": {},
   "outputs": [
    {
     "data": {
      "text/plain": [
       "' \\nfigure\\nimshow(lbpcaimg)\\ntitle(\"Approx. by Local block PCA (PSNR: \" + num2str(psnr(img,lbpcaimg))+\" dB)\")\\n'"
      ]
     },
     "execution_count": 24,
     "metadata": {},
     "output_type": "execute_result"
    }
   ],
   "source": [
    "\"\"\" \n",
    "figure\n",
    "imshow(lbpcaimg)\n",
    "title(\"Approx. by Local block PCA (PSNR: \" + num2str(psnr(img,lbpcaimg))+\" dB)\")\n",
    "\"\"\" "
   ]
  },
  {
   "cell_type": "code",
   "execution_count": 25,
   "metadata": {},
   "outputs": [
    {
     "data": {
      "text/plain": [
       "' \\nfigure\\nimshow(gbpcaimg)\\ntitle(\"Approx. by Global block PCA (PSNR: \" + num2str(psnr(img,gbpcaimg))+\" dB)\")\\n'"
      ]
     },
     "execution_count": 25,
     "metadata": {},
     "output_type": "execute_result"
    }
   ],
   "source": [
    "\"\"\" \n",
    "figure\n",
    "imshow(gbpcaimg)\n",
    "title(\"Approx. by Global block PCA (PSNR: \" + num2str(psnr(img,gbpcaimg))+\" dB)\")\n",
    "\"\"\" "
   ]
  },
  {
   "cell_type": "code",
   "execution_count": 26,
   "metadata": {},
   "outputs": [
    {
     "data": {
      "text/plain": [
       "' \\nfigure\\nimshow(lsunaimg)\\ntitle(\"Approx. by LSUN (PSNR: \" + num2str(psnr(img,im2double(lsunaimg)))+\" dB)\")\\n'"
      ]
     },
     "execution_count": 26,
     "metadata": {},
     "output_type": "execute_result"
    }
   ],
   "source": [
    "\"\"\" \n",
    "figure\n",
    "imshow(lsunaimg)\n",
    "title(\"Approx. by LSUN (PSNR: \" + num2str(psnr(img,im2double(lsunaimg)))+\" dB)\")\n",
    "\"\"\" "
   ]
  },
  {
   "cell_type": "code",
   "execution_count": null,
   "metadata": {},
   "outputs": [],
   "source": []
  },
  {
   "cell_type": "markdown",
   "metadata": {},
   "source": [
    "## Definitions of local functions\n",
    "\n",
    "Function to extract a local patch block from a global array\n"
   ]
  },
  {
   "cell_type": "code",
   "execution_count": 27,
   "metadata": {},
   "outputs": [
    {
     "data": {
      "text/plain": [
       "' \\nfunction y = fcn_extract_blks_(x,iBlk,blksz,k)\\n% Extend array x\\nky = k(1);\\nkx = k(2);\\niBlkRow = iBlk(1);\\niBlkCol = iBlk(2);\\npadsz = [(ky-1)/2, (kx-1)/2].*blksz;\\nxx = padarray(x,padsz,\"circular\");\\n%\\nposy = (iBlkRow-1)*blksz(1)+1;\\nposx = (iBlkCol-1)*blksz(2)+1;\\ny = xx(posy:posy+ky*blksz(1)-1,posx:posx+kx*blksz(2)-1);\\nend\\n'"
      ]
     },
     "execution_count": 27,
     "metadata": {},
     "output_type": "execute_result"
    }
   ],
   "source": [
    "\"\"\" \n",
    "function y = fcn_extract_blks_(x,iBlk,blksz,k)\n",
    "% Extend array x\n",
    "ky = k(1);\n",
    "kx = k(2);\n",
    "iBlkRow = iBlk(1);\n",
    "iBlkCol = iBlk(2);\n",
    "padsz = [(ky-1)/2, (kx-1)/2].*blksz;\n",
    "xx = padarray(x,padsz,\"circular\");\n",
    "%\n",
    "posy = (iBlkRow-1)*blksz(1)+1;\n",
    "posx = (iBlkCol-1)*blksz(2)+1;\n",
    "y = xx(posy:posy+ky*blksz(1)-1,posx:posx+kx*blksz(2)-1);\n",
    "end\n",
    "\"\"\" "
   ]
  },
  {
   "cell_type": "markdown",
   "metadata": {},
   "source": [
    "\n",
    "Function to place a local patch block to a global array\n"
   ]
  },
  {
   "cell_type": "code",
   "execution_count": 28,
   "metadata": {},
   "outputs": [
    {
     "data": {
      "text/plain": [
       "' \\nfunction y = fcn_place_blks_(y,blk,iBlk,blksz)\\n% Extend array x\\niBlkRow = iBlk(1);\\niBlkCol = iBlk(2);\\nposy = (iBlkRow-1)*blksz(1)+1;\\nposx = (iBlkCol-1)*blksz(2)+1;\\ny(posy:posy+blksz(1)-1,posx:posx+blksz(2)-1) = blk;\\nend\\n'"
      ]
     },
     "execution_count": 28,
     "metadata": {},
     "output_type": "execute_result"
    }
   ],
   "source": [
    "\"\"\" \n",
    "function y = fcn_place_blks_(y,blk,iBlk,blksz)\n",
    "% Extend array x\n",
    "iBlkRow = iBlk(1);\n",
    "iBlkCol = iBlk(2);\n",
    "posy = (iBlkRow-1)*blksz(1)+1;\n",
    "posx = (iBlkCol-1)*blksz(2)+1;\n",
    "y(posy:posy+blksz(1)-1,posx:posx+blksz(2)-1) = blk;\n",
    "end\n",
    "\"\"\""
   ]
  },
  {
   "cell_type": "markdown",
   "metadata": {},
   "source": [
    "\n",
    "Loss function\n",
    "\n",
    "\n",
    "&nbsp;&nbsp;&nbsp;&nbsp;&nbsp; $L({\\theta })=\\|x{\\|}_2^2 -\\|F_{{\\theta }} (x){\\|}_2^2$ ,\n",
    "\n",
    "\n",
    "where $F_{{\\theta }} (\\cdot )$ is a unitaly analyzer with a coefficient mask. $L({\\theta })\\ge 0$ is guaranteed.\n"
   ]
  },
  {
   "cell_type": "code",
   "execution_count": 29,
   "metadata": {},
   "outputs": [
    {
     "data": {
      "text/plain": [
       "' \\nfunction [gradients, loss] = modelGradients(dlnet, dlX)\\n% Forward data through the dlnetwork object.\\ndlY = forward(dlnet,dlX); % F(x)\\n% Compute loss.\\nNx = size(dlX,4);\\nNy = size(dlY,4);\\nloss = sum(dlX.^2,\"all\")/Nx-sum(dlY.^2,\"all\")/Ny;\\n% Compute gradients.\\ngradients = dlgradient(loss,dlnet.Learnables);\\nloss = double(gather(extractdata(loss)));\\nend\\n'"
      ]
     },
     "execution_count": 29,
     "metadata": {},
     "output_type": "execute_result"
    }
   ],
   "source": [
    "\"\"\" \n",
    "function [gradients, loss] = modelGradients(dlnet, dlX)\n",
    "% Forward data through the dlnetwork object.\n",
    "dlY = forward(dlnet,dlX); % F(x)\n",
    "% Compute loss.\n",
    "Nx = size(dlX,4);\n",
    "Ny = size(dlY,4);\n",
    "loss = sum(dlX.^2,\"all\")/Nx-sum(dlY.^2,\"all\")/Ny;\n",
    "% Compute gradients.\n",
    "gradients = dlgradient(loss,dlnet.Learnables);\n",
    "loss = double(gather(extractdata(loss)));\n",
    "end\n",
    "\"\"\""
   ]
  }
 ],
 "metadata": {
  "kernelspec": {
   "display_name": "Python 3 (ipykernel)",
   "language": "python",
   "name": "python3"
  },
  "language_info": {
   "codemirror_mode": {
    "name": "ipython",
    "version": 3
   },
   "file_extension": ".py",
   "mimetype": "text/x-python",
   "name": "python",
   "nbconvert_exporter": "python",
   "pygments_lexer": "ipython3",
   "version": "3.10.5"
  }
 },
 "nbformat": 4,
 "nbformat_minor": 4
}
